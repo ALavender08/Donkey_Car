{
 "cells": [
  {
   "cell_type": "code",
   "execution_count": 1,
   "id": "ebe2c9ef-edf9-40e9-b72b-f49d715b0d34",
   "metadata": {},
   "outputs": [
    {
     "name": "stderr",
     "output_type": "stream",
     "text": [
      "\n"
     ]
    }
   ],
   "source": [
    "import os\n",
    "import gym\n",
    "import gym_donkeycar\n",
    "import numpy as np\n",
    "import random\n",
    "\n",
    "# SET UP ENVIRONMENT\n",
    "# You can also launch the simulator separately\n",
    "# in that case, you don't need to pass a `conf` object\n",
    "exe_path = f\"/home/user/DonkeySimLinux/donkey_sim.x86_64\"\n",
    "port = 9091"
   ]
  },
  {
   "cell_type": "code",
   "execution_count": 4,
   "id": "8ba794aa-72db-4807-85a4-ea60629ca8e5",
   "metadata": {},
   "outputs": [
    {
     "name": "stdout",
     "output_type": "stream",
     "text": [
      "starting DonkeyGym env\n",
      "Setting default: start_delay 5.0\n",
      "Setting default: max_cte 8.0\n",
      "Setting default: frame_skip 1\n",
      "Setting default: cam_resolution (120, 160, 3)\n",
      "Setting default: log_level 20\n",
      "Setting default: host localhost\n",
      "Setting default: steer_limit 1.0\n",
      "Setting default: throttle_min 0.0\n",
      "Setting default: throttle_max 1.0\n",
      "donkey subprocess started\n",
      "Found path: /home/user/DonkeySimLinux/donkey_sim.x86_64\n"
     ]
    },
    {
     "name": "stderr",
     "output_type": "stream",
     "text": [
      "INFO:gym_donkeycar.core.client:connecting to localhost:9091 \n",
      "INFO:gym_donkeycar.envs.donkey_sim:on need car config\n",
      "INFO:gym_donkeycar.envs.donkey_sim:sending car config.\n",
      "INFO:gym_donkeycar.envs.donkey_sim:sim started!\n"
     ]
    },
    {
     "name": "stdout",
     "output_type": "stream",
     "text": [
      "closing donkey sim subprocess\n"
     ]
    }
   ],
   "source": [
    "conf = { \"exe_path\" : exe_path, \"port\" : port }\n",
    "env = gym.make(\"donkey-minimonaco-track-v0\", conf=conf)\n",
    "for i in range(5):\n",
    "    # PLAY\n",
    "    obs = env.reset()\n",
    "    for t in range(100):\n",
    "      x1 = random.random()\n",
    "      x2 = random.random()\n",
    "      action = np.array([x1, x2]) # drive straight with small speed\n",
    "      # execute the action\n",
    "      obs, reward, done, info = env.step(action)\n",
    "# Exit the scene\n",
    "env.close()"
   ]
  },
  {
   "cell_type": "code",
   "execution_count": null,
   "id": "c1bbe686-9353-4266-9c13-99943ef66c7f",
   "metadata": {},
   "outputs": [],
   "source": []
  }
 ],
 "metadata": {
  "kernelspec": {
   "display_name": "Python 3 (ipykernel)",
   "language": "python",
   "name": "python3"
  },
  "language_info": {
   "codemirror_mode": {
    "name": "ipython",
    "version": 3
   },
   "file_extension": ".py",
   "mimetype": "text/x-python",
   "name": "python",
   "nbconvert_exporter": "python",
   "pygments_lexer": "ipython3",
   "version": "3.11.11"
  }
 },
 "nbformat": 4,
 "nbformat_minor": 5
}
