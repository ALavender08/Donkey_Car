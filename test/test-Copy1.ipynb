{
 "cells": [
  {
   "cell_type": "code",
   "execution_count": 1,
   "id": "ebe2c9ef-edf9-40e9-b72b-f49d715b0d34",
   "metadata": {},
   "outputs": [
    {
     "name": "stderr",
     "output_type": "stream",
     "text": [
      "\n"
     ]
    }
   ],
   "source": [
    "import os\n",
    "import gym\n",
    "import gym_donkeycar\n",
    "import numpy as np\n",
    "import random\n",
    "\n",
    "# SET UP ENVIRONMENT\n",
    "# You can also launch the simulator separately\n",
    "# in that case, you don't need to pass a `conf` object\n",
    "exe_path = f\"/home/user/DonkeySimLinux/donkey_sim.x86_64\"\n",
    "port = 9091"
   ]
  },
  {
   "cell_type": "code",
   "execution_count": 2,
   "id": "8ba794aa-72db-4807-85a4-ea60629ca8e5",
   "metadata": {},
   "outputs": [
    {
     "name": "stdout",
     "output_type": "stream",
     "text": [
      "starting DonkeyGym env\n",
      "Setting default: start_delay 5.0\n",
      "Setting default: max_cte 8.0\n",
      "Setting default: frame_skip 1\n",
      "Setting default: cam_resolution (120, 160, 3)\n",
      "Setting default: log_level 20\n",
      "Setting default: host localhost\n",
      "Setting default: steer_limit 1.0\n",
      "Setting default: throttle_min 0.0\n",
      "Setting default: throttle_max 1.0\n",
      "donkey subprocess started\n",
      "Found path: /home/user/DonkeySimLinux/donkey_sim.x86_64\n"
     ]
    },
    {
     "name": "stderr",
     "output_type": "stream",
     "text": [
      "INFO:gym_donkeycar.core.client:connecting to localhost:9091 \n"
     ]
    },
    {
     "ename": "Exception",
     "evalue": "Could not connect to server. Is it running? If you specified 'remote', then you must start it manually.",
     "output_type": "error",
     "traceback": [
      "\u001b[31m---------------------------------------------------------------------------\u001b[39m",
      "\u001b[31mConnectionRefusedError\u001b[39m                    Traceback (most recent call last)",
      "\u001b[36mFile \u001b[39m\u001b[32m~/miniconda3/envs/donkey/lib/python3.11/site-packages/gym_donkeycar/core/client.py:45\u001b[39m, in \u001b[36mSDClient.connect\u001b[39m\u001b[34m(self)\u001b[39m\n\u001b[32m     44\u001b[39m \u001b[38;5;28;01mtry\u001b[39;00m:\n\u001b[32m---> \u001b[39m\u001b[32m45\u001b[39m     \u001b[38;5;28;43mself\u001b[39;49m\u001b[43m.\u001b[49m\u001b[43ms\u001b[49m\u001b[43m.\u001b[49m\u001b[43mconnect\u001b[49m\u001b[43m(\u001b[49m\u001b[43m(\u001b[49m\u001b[38;5;28;43mself\u001b[39;49m\u001b[43m.\u001b[49m\u001b[43mhost\u001b[49m\u001b[43m,\u001b[49m\u001b[43m \u001b[49m\u001b[38;5;28;43mself\u001b[39;49m\u001b[43m.\u001b[49m\u001b[43mport\u001b[49m\u001b[43m)\u001b[49m\u001b[43m)\u001b[49m\n\u001b[32m     46\u001b[39m \u001b[38;5;28;01mexcept\u001b[39;00m \u001b[38;5;167;01mConnectionRefusedError\u001b[39;00m:\n",
      "\u001b[31mConnectionRefusedError\u001b[39m: [Errno 111] Connection refused",
      "\nDuring handling of the above exception, another exception occurred:\n",
      "\u001b[31mException\u001b[39m                                 Traceback (most recent call last)",
      "\u001b[36mCell\u001b[39m\u001b[36m \u001b[39m\u001b[32mIn[2]\u001b[39m\u001b[32m, line 2\u001b[39m\n\u001b[32m      1\u001b[39m conf = { \u001b[33m\"\u001b[39m\u001b[33mexe_path\u001b[39m\u001b[33m\"\u001b[39m : exe_path, \u001b[33m\"\u001b[39m\u001b[33mport\u001b[39m\u001b[33m\"\u001b[39m : port }\n\u001b[32m----> \u001b[39m\u001b[32m2\u001b[39m env = \u001b[43mgym\u001b[49m\u001b[43m.\u001b[49m\u001b[43mmake\u001b[49m\u001b[43m(\u001b[49m\u001b[33;43m\"\u001b[39;49m\u001b[33;43mdonkey-mountain-track-v0\u001b[39;49m\u001b[33;43m\"\u001b[39;49m\u001b[43m,\u001b[49m\u001b[43m \u001b[49m\u001b[43mconf\u001b[49m\u001b[43m=\u001b[49m\u001b[43mconf\u001b[49m\u001b[43m)\u001b[49m\n\u001b[32m      3\u001b[39m \u001b[38;5;28;01mfor\u001b[39;00m i \u001b[38;5;129;01min\u001b[39;00m \u001b[38;5;28mrange\u001b[39m(\u001b[32m5\u001b[39m):\n\u001b[32m      4\u001b[39m     \u001b[38;5;66;03m# PLAY\u001b[39;00m\n\u001b[32m      5\u001b[39m     obs = env.reset()\n",
      "\u001b[36mFile \u001b[39m\u001b[32m~/miniconda3/envs/donkey/lib/python3.11/site-packages/gym/envs/registration.py:676\u001b[39m, in \u001b[36mmake\u001b[39m\u001b[34m(id, **kwargs)\u001b[39m\n\u001b[32m    675\u001b[39m \u001b[38;5;28;01mdef\u001b[39;00m\u001b[38;5;250m \u001b[39m\u001b[34mmake\u001b[39m(\u001b[38;5;28mid\u001b[39m: \u001b[38;5;28mstr\u001b[39m, **kwargs) -> \u001b[33m\"\u001b[39m\u001b[33mEnv\u001b[39m\u001b[33m\"\u001b[39m:\n\u001b[32m--> \u001b[39m\u001b[32m676\u001b[39m     \u001b[38;5;28;01mreturn\u001b[39;00m \u001b[43mregistry\u001b[49m\u001b[43m.\u001b[49m\u001b[43mmake\u001b[49m\u001b[43m(\u001b[49m\u001b[38;5;28;43mid\u001b[39;49m\u001b[43m,\u001b[49m\u001b[43m \u001b[49m\u001b[43m*\u001b[49m\u001b[43m*\u001b[49m\u001b[43mkwargs\u001b[49m\u001b[43m)\u001b[49m\n",
      "\u001b[36mFile \u001b[39m\u001b[32m~/miniconda3/envs/donkey/lib/python3.11/site-packages/gym/envs/registration.py:520\u001b[39m, in \u001b[36mEnvRegistry.make\u001b[39m\u001b[34m(self, path, **kwargs)\u001b[39m\n\u001b[32m    518\u001b[39m spec = \u001b[38;5;28mself\u001b[39m.spec(path)\n\u001b[32m    519\u001b[39m \u001b[38;5;66;03m# Construct the environment\u001b[39;00m\n\u001b[32m--> \u001b[39m\u001b[32m520\u001b[39m \u001b[38;5;28;01mreturn\u001b[39;00m \u001b[43mspec\u001b[49m\u001b[43m.\u001b[49m\u001b[43mmake\u001b[49m\u001b[43m(\u001b[49m\u001b[43m*\u001b[49m\u001b[43m*\u001b[49m\u001b[43mkwargs\u001b[49m\u001b[43m)\u001b[49m\n",
      "\u001b[36mFile \u001b[39m\u001b[32m~/miniconda3/envs/donkey/lib/python3.11/site-packages/gym/envs/registration.py:140\u001b[39m, in \u001b[36mEnvSpec.make\u001b[39m\u001b[34m(self, **kwargs)\u001b[39m\n\u001b[32m    138\u001b[39m \u001b[38;5;28;01melse\u001b[39;00m:\n\u001b[32m    139\u001b[39m     \u001b[38;5;28mcls\u001b[39m = load(\u001b[38;5;28mself\u001b[39m.entry_point)\n\u001b[32m--> \u001b[39m\u001b[32m140\u001b[39m     env = \u001b[38;5;28;43mcls\u001b[39;49m\u001b[43m(\u001b[49m\u001b[43m*\u001b[49m\u001b[43m*\u001b[49m\u001b[43m_kwargs\u001b[49m\u001b[43m)\u001b[49m\n\u001b[32m    142\u001b[39m \u001b[38;5;66;03m# Make the environment aware of which spec it came from.\u001b[39;00m\n\u001b[32m    143\u001b[39m spec = copy.deepcopy(\u001b[38;5;28mself\u001b[39m)\n",
      "\u001b[36mFile \u001b[39m\u001b[32m~/miniconda3/envs/donkey/lib/python3.11/site-packages/gym_donkeycar/envs/donkey_env.py:184\u001b[39m, in \u001b[36mMountainTrackEnv.__init__\u001b[39m\u001b[34m(self, *args, **kwargs)\u001b[39m\n\u001b[32m    183\u001b[39m \u001b[38;5;28;01mdef\u001b[39;00m\u001b[38;5;250m \u001b[39m\u001b[34m__init__\u001b[39m(\u001b[38;5;28mself\u001b[39m, *args, **kwargs):\n\u001b[32m--> \u001b[39m\u001b[32m184\u001b[39m     \u001b[38;5;28;43msuper\u001b[39;49m\u001b[43m(\u001b[49m\u001b[43m)\u001b[49m\u001b[43m.\u001b[49m\u001b[34;43m__init__\u001b[39;49m\u001b[43m(\u001b[49m\u001b[43mlevel\u001b[49m\u001b[43m=\u001b[49m\u001b[33;43m\"\u001b[39;49m\u001b[33;43mmountain_track\u001b[39;49m\u001b[33;43m\"\u001b[39;49m\u001b[43m,\u001b[49m\u001b[43m \u001b[49m\u001b[43m*\u001b[49m\u001b[43margs\u001b[49m\u001b[43m,\u001b[49m\u001b[43m \u001b[49m\u001b[43m*\u001b[49m\u001b[43m*\u001b[49m\u001b[43mkwargs\u001b[49m\u001b[43m)\u001b[49m\n",
      "\u001b[36mFile \u001b[39m\u001b[32m~/miniconda3/envs/donkey/lib/python3.11/site-packages/gym_donkeycar/envs/donkey_env.py:91\u001b[39m, in \u001b[36mDonkeyEnv.__init__\u001b[39m\u001b[34m(self, level, conf)\u001b[39m\n\u001b[32m     88\u001b[39m     time.sleep(conf[\u001b[33m\"\u001b[39m\u001b[33mstart_delay\u001b[39m\u001b[33m\"\u001b[39m])\n\u001b[32m     90\u001b[39m \u001b[38;5;66;03m# start simulation com\u001b[39;00m\n\u001b[32m---> \u001b[39m\u001b[32m91\u001b[39m \u001b[38;5;28mself\u001b[39m.viewer = \u001b[43mDonkeyUnitySimContoller\u001b[49m\u001b[43m(\u001b[49m\u001b[43mconf\u001b[49m\u001b[43m=\u001b[49m\u001b[43mconf\u001b[49m\u001b[43m)\u001b[49m\n\u001b[32m     93\u001b[39m \u001b[38;5;66;03m# Note: for some RL algorithms, it would be better to normalize the action space to [-1, 1]\u001b[39;00m\n\u001b[32m     94\u001b[39m \u001b[38;5;66;03m# and then rescale to proper limtis\u001b[39;00m\n\u001b[32m     95\u001b[39m \u001b[38;5;66;03m# steering and throttle\u001b[39;00m\n\u001b[32m     96\u001b[39m \u001b[38;5;28mself\u001b[39m.action_space = spaces.Box(\n\u001b[32m     97\u001b[39m     low=np.array([-\u001b[38;5;28mfloat\u001b[39m(conf[\u001b[33m\"\u001b[39m\u001b[33msteer_limit\u001b[39m\u001b[33m\"\u001b[39m]), \u001b[38;5;28mfloat\u001b[39m(conf[\u001b[33m\"\u001b[39m\u001b[33mthrottle_min\u001b[39m\u001b[33m\"\u001b[39m])]),\n\u001b[32m     98\u001b[39m     high=np.array([\u001b[38;5;28mfloat\u001b[39m(conf[\u001b[33m\"\u001b[39m\u001b[33msteer_limit\u001b[39m\u001b[33m\"\u001b[39m]), \u001b[38;5;28mfloat\u001b[39m(conf[\u001b[33m\"\u001b[39m\u001b[33mthrottle_max\u001b[39m\u001b[33m\"\u001b[39m])]),\n\u001b[32m     99\u001b[39m     dtype=np.float32,\n\u001b[32m    100\u001b[39m )\n",
      "\u001b[36mFile \u001b[39m\u001b[32m~/miniconda3/envs/donkey/lib/python3.11/site-packages/gym_donkeycar/envs/donkey_sim.py:71\u001b[39m, in \u001b[36mDonkeyUnitySimContoller.__init__\u001b[39m\u001b[34m(self, conf)\u001b[39m\n\u001b[32m     67\u001b[39m \u001b[38;5;28mself\u001b[39m.address = (conf[\u001b[33m\"\u001b[39m\u001b[33mhost\u001b[39m\u001b[33m\"\u001b[39m], conf[\u001b[33m\"\u001b[39m\u001b[33mport\u001b[39m\u001b[33m\"\u001b[39m])\n\u001b[32m     69\u001b[39m \u001b[38;5;28mself\u001b[39m.handler = DonkeyUnitySimHandler(conf=conf)\n\u001b[32m---> \u001b[39m\u001b[32m71\u001b[39m \u001b[38;5;28mself\u001b[39m.client = \u001b[43mSimClient\u001b[49m\u001b[43m(\u001b[49m\u001b[38;5;28;43mself\u001b[39;49m\u001b[43m.\u001b[49m\u001b[43maddress\u001b[49m\u001b[43m,\u001b[49m\u001b[43m \u001b[49m\u001b[38;5;28;43mself\u001b[39;49m\u001b[43m.\u001b[49m\u001b[43mhandler\u001b[49m\u001b[43m)\u001b[49m\n",
      "\u001b[36mFile \u001b[39m\u001b[32m~/miniconda3/envs/donkey/lib/python3.11/site-packages/gym_donkeycar/core/sim_client.py:28\u001b[39m, in \u001b[36mSimClient.__init__\u001b[39m\u001b[34m(self, address, msg_handler)\u001b[39m\n\u001b[32m     25\u001b[39m \u001b[38;5;28mself\u001b[39m.msg_handler = msg_handler\n\u001b[32m     27\u001b[39m \u001b[38;5;66;03m# connect to sim\u001b[39;00m\n\u001b[32m---> \u001b[39m\u001b[32m28\u001b[39m \u001b[38;5;28;43msuper\u001b[39;49m\u001b[43m(\u001b[49m\u001b[43m)\u001b[49m\u001b[43m.\u001b[49m\u001b[34;43m__init__\u001b[39;49m\u001b[43m(\u001b[49m\u001b[43m*\u001b[49m\u001b[43maddress\u001b[49m\u001b[43m)\u001b[49m\n\u001b[32m     30\u001b[39m \u001b[38;5;66;03m# we connect right away\u001b[39;00m\n\u001b[32m     31\u001b[39m msg_handler.on_connect(\u001b[38;5;28mself\u001b[39m)\n",
      "\u001b[36mFile \u001b[39m\u001b[32m~/miniconda3/envs/donkey/lib/python3.11/site-packages/gym_donkeycar/core/client.py:37\u001b[39m, in \u001b[36mSDClient.__init__\u001b[39m\u001b[34m(self, host, port, poll_socket_sleep_time)\u001b[39m\n\u001b[32m     35\u001b[39m \u001b[38;5;28mself\u001b[39m.aborted = \u001b[38;5;28;01mFalse\u001b[39;00m\n\u001b[32m     36\u001b[39m \u001b[38;5;28mself\u001b[39m.s = \u001b[38;5;28;01mNone\u001b[39;00m\n\u001b[32m---> \u001b[39m\u001b[32m37\u001b[39m \u001b[38;5;28;43mself\u001b[39;49m\u001b[43m.\u001b[49m\u001b[43mconnect\u001b[49m\u001b[43m(\u001b[49m\u001b[43m)\u001b[49m\n",
      "\u001b[36mFile \u001b[39m\u001b[32m~/miniconda3/envs/donkey/lib/python3.11/site-packages/gym_donkeycar/core/client.py:47\u001b[39m, in \u001b[36mSDClient.connect\u001b[39m\u001b[34m(self)\u001b[39m\n\u001b[32m     45\u001b[39m     \u001b[38;5;28mself\u001b[39m.s.connect((\u001b[38;5;28mself\u001b[39m.host, \u001b[38;5;28mself\u001b[39m.port))\n\u001b[32m     46\u001b[39m \u001b[38;5;28;01mexcept\u001b[39;00m \u001b[38;5;167;01mConnectionRefusedError\u001b[39;00m:\n\u001b[32m---> \u001b[39m\u001b[32m47\u001b[39m     \u001b[38;5;28;01mraise\u001b[39;00m (\n\u001b[32m     48\u001b[39m         \u001b[38;5;167;01mException\u001b[39;00m(\n\u001b[32m     49\u001b[39m             \u001b[33m\"\u001b[39m\u001b[33mCould not connect to server. Is it running? \u001b[39m\u001b[33m\"\u001b[39m\n\u001b[32m     50\u001b[39m             \u001b[33m\"\u001b[39m\u001b[33mIf you specified \u001b[39m\u001b[33m'\u001b[39m\u001b[33mremote\u001b[39m\u001b[33m'\u001b[39m\u001b[33m, then you must start it manually.\u001b[39m\u001b[33m\"\u001b[39m\n\u001b[32m     51\u001b[39m         )\n\u001b[32m     52\u001b[39m     )\n\u001b[32m     54\u001b[39m \u001b[38;5;66;03m# time.sleep(pause_on_create)\u001b[39;00m\n\u001b[32m     55\u001b[39m \u001b[38;5;28mself\u001b[39m.do_process_msgs = \u001b[38;5;28;01mTrue\u001b[39;00m\n",
      "\u001b[31mException\u001b[39m: Could not connect to server. Is it running? If you specified 'remote', then you must start it manually."
     ]
    }
   ],
   "source": [
    "conf = { \"exe_path\" : exe_path, \"port\" : port }\n",
    "env = gym.make(\"donkey-mountain-track-v0\", conf=conf)\n",
    "for i in range(5):\n",
    "    # PLAY\n",
    "    obs = env.reset()\n",
    "    for t in range(100):\n",
    "      x1 = random.random()\n",
    "      x2 = random.random()\n",
    "      action = np.array([x1, x2]) # drive straight with small speed\n",
    "      # execute the action\n",
    "      obs, reward, done, info = env.step(action)"
   ]
  },
  {
   "cell_type": "code",
   "execution_count": null,
   "id": "0b97693c-77f2-4299-a635-82751a382a04",
   "metadata": {},
   "outputs": [],
   "source": [
    "# Exit the scene\n",
    "env.close()"
   ]
  }
 ],
 "metadata": {
  "kernelspec": {
   "display_name": "Python 3 (ipykernel)",
   "language": "python",
   "name": "python3"
  },
  "language_info": {
   "codemirror_mode": {
    "name": "ipython",
    "version": 3
   },
   "file_extension": ".py",
   "mimetype": "text/x-python",
   "name": "python",
   "nbconvert_exporter": "python",
   "pygments_lexer": "ipython3",
   "version": "3.11.11"
  }
 },
 "nbformat": 4,
 "nbformat_minor": 5
}
