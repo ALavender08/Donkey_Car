{
 "cells": [
  {
   "cell_type": "code",
   "execution_count": 3,
   "id": "ebe2c9ef-edf9-40e9-b72b-f49d715b0d34",
   "metadata": {},
   "outputs": [],
   "source": [
    "import os\n",
    "import gym\n",
    "import gym_donkeycar\n",
    "import numpy as np\n",
    "import random\n",
    "\n",
    "# SET UP ENVIRONMENT\n",
    "# You can also launch the simulator separately\n",
    "# in that case, you don't need to pass a `conf` object\n",
    "\n",
    "# exe_path = f\"/home/user/DonkeySimLinux/donkey_sim.x86_64\"\n",
    "# port = 9091\n",
    "# DONKEY_SIM_PATH = \"remote\"\n",
    "# SIM_HOST = \"trainmydonkey.com\"\n",
    "\n",
    "DONKEY_GYM = True\n",
    "DONKEY_SIM_PATH = \"remote\"\n",
    "DONKEY_GYM_ENV_NAME = \"donkey-generated-track-v0\"\n",
    "body_style = \"car01\"\n",
    "body_rgb = (128, 128, 128)\n",
    "car_name = \"Test\"\n",
    "font_size = 100\n",
    "WEB_CONTROL_PORT = int(os.getenv(\"WEB_CONTROL_PORT\", 8887))\n",
    "port = 9091"
   ]
  },
  {
   "cell_type": "code",
   "execution_count": 4,
   "id": "8ba794aa-72db-4807-85a4-ea60629ca8e5",
   "metadata": {},
   "outputs": [
    {
     "name": "stderr",
     "output_type": "stream",
     "text": [
      "INFO:gym_donkeycar.core.client:connecting to localhost:9091 \n",
      "INFO:gym_donkeycar.envs.donkey_sim:on need car config\n",
      "INFO:gym_donkeycar.envs.donkey_sim:sending car config.\n",
      "INFO:gym_donkeycar.envs.donkey_sim:sim started!\n"
     ]
    },
    {
     "name": "stdout",
     "output_type": "stream",
     "text": [
      "starting DonkeyGym env\n",
      "Setting default: start_delay 5.0\n",
      "Setting default: max_cte 8.0\n",
      "Setting default: frame_skip 1\n",
      "Setting default: cam_resolution (120, 160, 3)\n",
      "Setting default: log_level 20\n",
      "Setting default: host localhost\n",
      "Setting default: steer_limit 1.0\n",
      "Setting default: throttle_min 0.0\n",
      "Setting default: throttle_max 1.0\n"
     ]
    }
   ],
   "source": [
    "conf = { \"DONKEY_GYM\":DONKEY_GYM, \"DONKEY_SIM_PATH\":DONKEY_SIM_PATH, \"DONKEY_GYM_ENV_NAME\":DONKEY_GYM_ENV_NAME, \n",
    "         \"body_style\":body_style, \"body_rgb\":body_rgb, \"car_name\":car_name, \"font_size\":font_size, \n",
    "         \"WEB_CONTROL_PORT\" : WEB_CONTROL_PORT, \"port\" : port }\n",
    "\n",
    "env = gym.make(\"donkey-minimonaco-track-v0\", conf=conf)\n",
    "for i in range(1):\n",
    "    # PLAY\n",
    "    obs = env.reset()\n",
    "    for t in range(100):\n",
    "      x1 = random.random()\n",
    "      x2 = random.random()\n",
    "      action = np.array([x1, x2]) # drive straight with small speed\n",
    "      # execute the action\n",
    "      obs, reward, done, info = env.step(action)\n",
    "\n",
    "# Exit the scene\n",
    "env.close()"
   ]
  },
  {
   "cell_type": "code",
   "execution_count": null,
   "id": "99bbb982-83fc-45be-9705-e059ab5ff08e",
   "metadata": {},
   "outputs": [],
   "source": []
  }
 ],
 "metadata": {
  "kernelspec": {
   "display_name": "Python 3 (ipykernel)",
   "language": "python",
   "name": "python3"
  },
  "language_info": {
   "codemirror_mode": {
    "name": "ipython",
    "version": 3
   },
   "file_extension": ".py",
   "mimetype": "text/x-python",
   "name": "python",
   "nbconvert_exporter": "python",
   "pygments_lexer": "ipython3",
   "version": "3.11.11"
  }
 },
 "nbformat": 4,
 "nbformat_minor": 5
}
