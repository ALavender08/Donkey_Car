{
 "cells": [
  {
   "cell_type": "code",
   "execution_count": 2,
   "id": "ebe2c9ef-edf9-40e9-b72b-f49d715b0d34",
   "metadata": {},
   "outputs": [],
   "source": [
    "import os\n",
    "import gym\n",
    "import gym_donkeycar\n",
    "import numpy as np\n",
    "import random\n",
    "import tensorflow\n",
    "import shimmy\n",
    "from rich.live import Live\n",
    "import stable_baselines3\n",
    "from stable_baselines3.common.evaluation import evaluate_policy\n",
    "from stable_baselines3 import PPO"
   ]
  },
  {
   "cell_type": "code",
   "execution_count": 8,
   "id": "153e811c-cdd9-4bdb-80ab-cfa8be254d47",
   "metadata": {},
   "outputs": [],
   "source": [
    "DONKEY_GYM = True\n",
    "DONKEY_SIM_PATH = \"remote\"\n",
    "DONKEY_GYM_ENV_NAME = \"donkey-generated-track-v0\"\n",
    "body_style = \"car01\"\n",
    "body_rgb = (128, 128, 128)\n",
    "car_name = \"PPO2\"\n",
    "font_size = 100\n",
    "WEB_CONTROL_PORT = int(os.getenv(\"WEB_CONTROL_PORT\", 8887))\n",
    "port = 9091"
   ]
  },
  {
   "cell_type": "code",
   "execution_count": 9,
   "id": "b17fbafc-04ed-458f-a24e-b7fe8f051d7b",
   "metadata": {},
   "outputs": [],
   "source": [
    "folder = '/mnt/d/donkeycar_model/PPO2/'"
   ]
  },
  {
   "cell_type": "code",
   "execution_count": 10,
   "id": "5ae91565-d9fe-4621-b3c2-4b571a2096ce",
   "metadata": {},
   "outputs": [],
   "source": [
    "conf = { \"DONKEY_GYM\":DONKEY_GYM, \"DONKEY_SIM_PATH\":DONKEY_SIM_PATH, \"DONKEY_GYM_ENV_NAME\":DONKEY_GYM_ENV_NAME, \n",
    "         \"body_style\":body_style, \"body_rgb\":body_rgb, \"car_name\":car_name, \"font_size\":font_size, \n",
    "         \"WEB_CONTROL_PORT\" : WEB_CONTROL_PORT, \"port\" : port }"
   ]
  },
  {
   "cell_type": "code",
   "execution_count": 16,
   "id": "804ca74f-b75f-4e51-90b3-e4074901877d",
   "metadata": {},
   "outputs": [
    {
     "name": "stderr",
     "output_type": "stream",
     "text": [
      "INFO:gym_donkeycar.core.client:connecting to localhost:9091 \n",
      "INFO:gym_donkeycar.envs.donkey_sim:on need car config\n",
      "INFO:gym_donkeycar.envs.donkey_sim:sending car config.\n",
      "INFO:gym_donkeycar.envs.donkey_sim:sim started!\n"
     ]
    },
    {
     "name": "stdout",
     "output_type": "stream",
     "text": [
      "starting DonkeyGym env\n"
     ]
    },
    {
     "name": "stderr",
     "output_type": "stream",
     "text": [
      "INFO:gym_donkeycar.envs.donkey_sim:New lap time: 3.75 seconds\n",
      "INFO:gym_donkeycar.envs.donkey_sim:New lap time: 30.54 seconds\n",
      "INFO:gym_donkeycar.envs.donkey_sim:New lap time: 30.16 seconds\n",
      "INFO:gym_donkeycar.envs.donkey_sim:New lap time: 30.52 seconds\n",
      "INFO:gym_donkeycar.envs.donkey_sim:New lap time: 30.26 seconds\n",
      "INFO:gym_donkeycar.envs.donkey_sim:New lap time: 30.19 seconds\n",
      "INFO:gym_donkeycar.envs.donkey_sim:New lap time: 30.05 seconds\n",
      "INFO:gym_donkeycar.envs.donkey_sim:New lap time: 30.03 seconds\n",
      "INFO:gym_donkeycar.envs.donkey_sim:New lap time: 30.28 seconds\n",
      "INFO:gym_donkeycar.envs.donkey_sim:New lap time: 29.96 seconds\n",
      "INFO:gym_donkeycar.envs.donkey_sim:New lap time: 29.97 seconds\n",
      "INFO:gym_donkeycar.envs.donkey_sim:New lap time: 30.0 seconds\n",
      "INFO:gym_donkeycar.envs.donkey_sim:New lap time: 30.16 seconds\n",
      "INFO:gym_donkeycar.envs.donkey_sim:New lap time: 30.27 seconds\n",
      "INFO:gym_donkeycar.envs.donkey_sim:New lap time: 30.22 seconds\n",
      "INFO:gym_donkeycar.envs.donkey_sim:New lap time: 30.03 seconds\n",
      "INFO:gym_donkeycar.envs.donkey_sim:New lap time: 30.18 seconds\n",
      "INFO:gym_donkeycar.envs.donkey_sim:New lap time: 30.12 seconds\n",
      "INFO:gym_donkeycar.envs.donkey_sim:New lap time: 30.43 seconds\n",
      "INFO:gym_donkeycar.envs.donkey_sim:New lap time: 30.12 seconds\n",
      "INFO:gym_donkeycar.envs.donkey_sim:New lap time: 30.18 seconds\n",
      "INFO:gym_donkeycar.envs.donkey_sim:New lap time: 30.15 seconds\n",
      "INFO:gym_donkeycar.envs.donkey_sim:New lap time: 30.03 seconds\n",
      "INFO:gym_donkeycar.envs.donkey_sim:New lap time: 30.19 seconds\n",
      "INFO:gym_donkeycar.envs.donkey_sim:New lap time: 30.05 seconds\n",
      "INFO:gym_donkeycar.envs.donkey_sim:New lap time: 30.19 seconds\n",
      "INFO:gym_donkeycar.envs.donkey_sim:New lap time: 30.1 seconds\n",
      "INFO:gym_donkeycar.envs.donkey_sim:New lap time: 30.06 seconds\n",
      "INFO:gym_donkeycar.envs.donkey_sim:New lap time: 30.27 seconds\n",
      "INFO:gym_donkeycar.envs.donkey_sim:New lap time: 30.25 seconds\n",
      "INFO:gym_donkeycar.envs.donkey_sim:New lap time: 29.98 seconds\n",
      "INFO:gym_donkeycar.envs.donkey_sim:New lap time: 30.44 seconds\n",
      "INFO:gym_donkeycar.envs.donkey_sim:New lap time: 29.89 seconds\n",
      "INFO:gym_donkeycar.envs.donkey_sim:New lap time: 30.1 seconds\n",
      "INFO:gym_donkeycar.envs.donkey_sim:New lap time: 30.12 seconds\n",
      "INFO:gym_donkeycar.envs.donkey_sim:New lap time: 30.08 seconds\n",
      "INFO:gym_donkeycar.envs.donkey_sim:New lap time: 30.07 seconds\n",
      "INFO:gym_donkeycar.envs.donkey_sim:New lap time: 30.6 seconds\n",
      "INFO:gym_donkeycar.envs.donkey_sim:New lap time: 29.91 seconds\n",
      "INFO:gym_donkeycar.envs.donkey_sim:New lap time: 30.01 seconds\n",
      "INFO:gym_donkeycar.envs.donkey_sim:New lap time: 30.67 seconds\n",
      "INFO:gym_donkeycar.envs.donkey_sim:New lap time: 30.66 seconds\n",
      "INFO:gym_donkeycar.envs.donkey_sim:New lap time: 30.28 seconds\n",
      "INFO:gym_donkeycar.envs.donkey_sim:New lap time: 30.12 seconds\n",
      "INFO:gym_donkeycar.envs.donkey_sim:New lap time: 30.41 seconds\n",
      "INFO:gym_donkeycar.envs.donkey_sim:New lap time: 30.21 seconds\n",
      "INFO:gym_donkeycar.envs.donkey_sim:New lap time: 30.14 seconds\n",
      "INFO:gym_donkeycar.envs.donkey_sim:New lap time: 30.21 seconds\n",
      "INFO:gym_donkeycar.envs.donkey_sim:New lap time: 30.36 seconds\n",
      "INFO:gym_donkeycar.envs.donkey_sim:New lap time: 30.56 seconds\n",
      "INFO:gym_donkeycar.envs.donkey_sim:New lap time: 30.64 seconds\n",
      "INFO:gym_donkeycar.envs.donkey_sim:New lap time: 30.45 seconds\n",
      "INFO:gym_donkeycar.envs.donkey_sim:New lap time: 30.23 seconds\n",
      "INFO:gym_donkeycar.envs.donkey_sim:New lap time: 30.47 seconds\n",
      "INFO:gym_donkeycar.envs.donkey_sim:New lap time: 30.44 seconds\n",
      "INFO:gym_donkeycar.envs.donkey_sim:New lap time: 30.36 seconds\n",
      "INFO:gym_donkeycar.envs.donkey_sim:New lap time: 30.52 seconds\n",
      "INFO:gym_donkeycar.envs.donkey_sim:New lap time: 30.5 seconds\n",
      "INFO:gym_donkeycar.envs.donkey_sim:New lap time: 30.79 seconds\n",
      "INFO:gym_donkeycar.envs.donkey_sim:New lap time: 30.03 seconds\n",
      "INFO:gym_donkeycar.envs.donkey_sim:New lap time: 30.54 seconds\n",
      "INFO:gym_donkeycar.envs.donkey_sim:New lap time: 30.46 seconds\n",
      "INFO:gym_donkeycar.envs.donkey_sim:New lap time: 30.17 seconds\n",
      "INFO:gym_donkeycar.envs.donkey_sim:New lap time: 30.05 seconds\n",
      "INFO:gym_donkeycar.envs.donkey_sim:New lap time: 30.34 seconds\n",
      "INFO:gym_donkeycar.envs.donkey_sim:New lap time: 30.44 seconds\n",
      "INFO:gym_donkeycar.envs.donkey_sim:New lap time: 30.6 seconds\n",
      "INFO:gym_donkeycar.envs.donkey_sim:New lap time: 30.31 seconds\n",
      "INFO:gym_donkeycar.envs.donkey_sim:New lap time: 30.89 seconds\n",
      "INFO:gym_donkeycar.envs.donkey_sim:New lap time: 30.64 seconds\n",
      "INFO:gym_donkeycar.envs.donkey_sim:New lap time: 30.45 seconds\n",
      "INFO:gym_donkeycar.envs.donkey_sim:New lap time: 30.41 seconds\n",
      "INFO:gym_donkeycar.envs.donkey_sim:New lap time: 30.48 seconds\n",
      "INFO:gym_donkeycar.envs.donkey_sim:New lap time: 30.32 seconds\n",
      "INFO:gym_donkeycar.envs.donkey_sim:New lap time: 30.53 seconds\n",
      "INFO:gym_donkeycar.envs.donkey_sim:New lap time: 30.66 seconds\n",
      "INFO:gym_donkeycar.envs.donkey_sim:New lap time: 30.61 seconds\n",
      "INFO:gym_donkeycar.envs.donkey_sim:New lap time: 30.59 seconds\n",
      "INFO:gym_donkeycar.envs.donkey_sim:New lap time: 30.62 seconds\n",
      "INFO:gym_donkeycar.envs.donkey_sim:New lap time: 30.35 seconds\n",
      "INFO:gym_donkeycar.envs.donkey_sim:New lap time: 30.97 seconds\n",
      "INFO:gym_donkeycar.envs.donkey_sim:New lap time: 30.37 seconds\n",
      "INFO:gym_donkeycar.envs.donkey_sim:New lap time: 30.51 seconds\n",
      "INFO:gym_donkeycar.envs.donkey_sim:New lap time: 30.79 seconds\n",
      "INFO:gym_donkeycar.envs.donkey_sim:New lap time: 30.7 seconds\n",
      "INFO:gym_donkeycar.envs.donkey_sim:New lap time: 30.54 seconds\n",
      "INFO:gym_donkeycar.envs.donkey_sim:New lap time: 30.25 seconds\n",
      "INFO:gym_donkeycar.envs.donkey_sim:New lap time: 30.44 seconds\n",
      "INFO:gym_donkeycar.envs.donkey_sim:New lap time: 30.84 seconds\n",
      "INFO:gym_donkeycar.envs.donkey_sim:New lap time: 30.11 seconds\n",
      "INFO:gym_donkeycar.envs.donkey_sim:New lap time: 30.26 seconds\n",
      "INFO:gym_donkeycar.envs.donkey_sim:New lap time: 30.41 seconds\n",
      "INFO:gym_donkeycar.envs.donkey_sim:New lap time: 30.15 seconds\n",
      "INFO:gym_donkeycar.envs.donkey_sim:New lap time: 30.71 seconds\n",
      "INFO:gym_donkeycar.envs.donkey_sim:New lap time: 30.17 seconds\n",
      "INFO:gym_donkeycar.envs.donkey_sim:New lap time: 30.21 seconds\n",
      "INFO:gym_donkeycar.envs.donkey_sim:New lap time: 30.62 seconds\n",
      "INFO:gym_donkeycar.envs.donkey_sim:New lap time: 30.49 seconds\n",
      "INFO:gym_donkeycar.envs.donkey_sim:New lap time: 30.35 seconds\n",
      "INFO:gym_donkeycar.envs.donkey_sim:New lap time: 30.16 seconds\n",
      "INFO:gym_donkeycar.envs.donkey_sim:New lap time: 30.34 seconds\n",
      "INFO:gym_donkeycar.envs.donkey_sim:New lap time: 30.33 seconds\n",
      "INFO:gym_donkeycar.envs.donkey_sim:New lap time: 30.59 seconds\n",
      "INFO:gym_donkeycar.envs.donkey_sim:New lap time: 30.92 seconds\n",
      "INFO:gym_donkeycar.envs.donkey_sim:New lap time: 30.47 seconds\n",
      "INFO:gym_donkeycar.envs.donkey_sim:New lap time: 30.35 seconds\n",
      "INFO:gym_donkeycar.envs.donkey_sim:New lap time: 30.38 seconds\n",
      "INFO:gym_donkeycar.envs.donkey_sim:New lap time: 30.54 seconds\n",
      "INFO:gym_donkeycar.envs.donkey_sim:New lap time: 30.51 seconds\n",
      "INFO:gym_donkeycar.envs.donkey_sim:New lap time: 30.28 seconds\n",
      "INFO:gym_donkeycar.envs.donkey_sim:New lap time: 30.65 seconds\n",
      "INFO:gym_donkeycar.envs.donkey_sim:New lap time: 30.73 seconds\n",
      "INFO:gym_donkeycar.envs.donkey_sim:New lap time: 30.69 seconds\n",
      "INFO:gym_donkeycar.envs.donkey_sim:New lap time: 30.5 seconds\n",
      "INFO:gym_donkeycar.envs.donkey_sim:New lap time: 30.53 seconds\n",
      "INFO:gym_donkeycar.envs.donkey_sim:New lap time: 30.57 seconds\n",
      "INFO:gym_donkeycar.envs.donkey_sim:New lap time: 30.05 seconds\n",
      "INFO:gym_donkeycar.envs.donkey_sim:New lap time: 29.94 seconds\n",
      "INFO:gym_donkeycar.envs.donkey_sim:New lap time: 30.01 seconds\n",
      "INFO:gym_donkeycar.envs.donkey_sim:New lap time: 30.15 seconds\n",
      "INFO:gym_donkeycar.envs.donkey_sim:New lap time: 30.11 seconds\n",
      "INFO:gym_donkeycar.envs.donkey_sim:New lap time: 30.22 seconds\n",
      "INFO:gym_donkeycar.envs.donkey_sim:New lap time: 30.14 seconds\n",
      "INFO:gym_donkeycar.envs.donkey_sim:New lap time: 30.42 seconds\n",
      "INFO:gym_donkeycar.envs.donkey_sim:New lap time: 30.29 seconds\n",
      "INFO:gym_donkeycar.envs.donkey_sim:New lap time: 30.41 seconds\n",
      "INFO:gym_donkeycar.envs.donkey_sim:New lap time: 30.29 seconds\n",
      "INFO:gym_donkeycar.envs.donkey_sim:New lap time: 30.34 seconds\n",
      "INFO:gym_donkeycar.envs.donkey_sim:New lap time: 30.72 seconds\n"
     ]
    }
   ],
   "source": [
    "env = gym.make(\"donkey-minimonaco-track-v0\", conf=conf)"
   ]
  },
  {
   "cell_type": "code",
   "execution_count": 18,
   "id": "8571d43d-49f5-4726-818f-6c40a48c754f",
   "metadata": {},
   "outputs": [
    {
     "name": "stdout",
     "output_type": "stream",
     "text": [
      "testing 2500 : 163.23758344037407\n",
      "testing 5000 : 179.8595363248475\n",
      "testing 7500 : 84.5093137245454\n",
      "testing 10000 : 309.00824998975986\n",
      "testing 12500 : -1.0000006716453158\n",
      "testing 15000 : 300.195851026804\n",
      "testing 17500 : 22.997807984945485\n",
      "testing 20000 : 304.10396550068015\n"
     ]
    },
    {
     "ename": "KeyboardInterrupt",
     "evalue": "",
     "output_type": "error",
     "traceback": [
      "\u001b[31m---------------------------------------------------------------------------\u001b[39m",
      "\u001b[31mKeyboardInterrupt\u001b[39m                         Traceback (most recent call last)",
      "\u001b[36mCell\u001b[39m\u001b[36m \u001b[39m\u001b[32mIn[18]\u001b[39m\u001b[32m, line 21\u001b[39m\n\u001b[32m     19\u001b[39m \u001b[38;5;28;01mwhile\u001b[39;00m \u001b[38;5;28;01mTrue\u001b[39;00m:\n\u001b[32m     20\u001b[39m     action, _states = model.predict(obs, deterministic=\u001b[38;5;28;01mTrue\u001b[39;00m)\n\u001b[32m---> \u001b[39m\u001b[32m21\u001b[39m     obs, reward, done, info = \u001b[43menv\u001b[49m\u001b[43m.\u001b[49m\u001b[43mstep\u001b[49m\u001b[43m(\u001b[49m\u001b[43maction\u001b[49m\u001b[43m)\u001b[49m\n\u001b[32m     22\u001b[39m     \u001b[38;5;66;03m# print (reward, done)\u001b[39;00m\n\u001b[32m     23\u001b[39m     env.render()\n",
      "\u001b[36mFile \u001b[39m\u001b[32m~/miniconda3/envs/donkey/lib/python3.11/site-packages/gym/wrappers/order_enforcing.py:13\u001b[39m, in \u001b[36mOrderEnforcing.step\u001b[39m\u001b[34m(self, action)\u001b[39m\n\u001b[32m     11\u001b[39m \u001b[38;5;28;01mdef\u001b[39;00m\u001b[38;5;250m \u001b[39m\u001b[34mstep\u001b[39m(\u001b[38;5;28mself\u001b[39m, action):\n\u001b[32m     12\u001b[39m     \u001b[38;5;28;01massert\u001b[39;00m \u001b[38;5;28mself\u001b[39m._has_reset, \u001b[33m\"\u001b[39m\u001b[33mCannot call env.step() before calling reset()\u001b[39m\u001b[33m\"\u001b[39m\n\u001b[32m---> \u001b[39m\u001b[32m13\u001b[39m     observation, reward, done, info = \u001b[38;5;28;43mself\u001b[39;49m\u001b[43m.\u001b[49m\u001b[43menv\u001b[49m\u001b[43m.\u001b[49m\u001b[43mstep\u001b[49m\u001b[43m(\u001b[49m\u001b[43maction\u001b[49m\u001b[43m)\u001b[49m\n\u001b[32m     14\u001b[39m     \u001b[38;5;28;01mreturn\u001b[39;00m observation, reward, done, info\n",
      "\u001b[36mFile \u001b[39m\u001b[32m~/gym-donkeycar/gym_donkeycar/envs/donkey_env.py:136\u001b[39m, in \u001b[36mDonkeyEnv.step\u001b[39m\u001b[34m(self, action)\u001b[39m\n\u001b[32m    134\u001b[39m \u001b[38;5;28;01mfor\u001b[39;00m _ \u001b[38;5;129;01min\u001b[39;00m \u001b[38;5;28mrange\u001b[39m(\u001b[38;5;28mself\u001b[39m.frame_skip):\n\u001b[32m    135\u001b[39m     \u001b[38;5;28mself\u001b[39m.viewer.take_action(action)\n\u001b[32m--> \u001b[39m\u001b[32m136\u001b[39m     observation, reward, done, info = \u001b[38;5;28;43mself\u001b[39;49m\u001b[43m.\u001b[49m\u001b[43mviewer\u001b[49m\u001b[43m.\u001b[49m\u001b[43mobserve\u001b[49m\u001b[43m(\u001b[49m\u001b[43m)\u001b[49m\n\u001b[32m    137\u001b[39m \u001b[38;5;28;01mreturn\u001b[39;00m observation, reward, done, info\n",
      "\u001b[36mFile \u001b[39m\u001b[32m~/gym-donkeycar/gym_donkeycar/envs/donkey_sim.py:108\u001b[39m, in \u001b[36mDonkeyUnitySimContoller.observe\u001b[39m\u001b[34m(self)\u001b[39m\n\u001b[32m    107\u001b[39m \u001b[38;5;28;01mdef\u001b[39;00m\u001b[38;5;250m \u001b[39m\u001b[34mobserve\u001b[39m(\u001b[38;5;28mself\u001b[39m) -> Tuple[np.ndarray, \u001b[38;5;28mfloat\u001b[39m, \u001b[38;5;28mbool\u001b[39m, Dict[\u001b[38;5;28mstr\u001b[39m, Any]]:\n\u001b[32m--> \u001b[39m\u001b[32m108\u001b[39m     \u001b[38;5;28;01mreturn\u001b[39;00m \u001b[38;5;28;43mself\u001b[39;49m\u001b[43m.\u001b[49m\u001b[43mhandler\u001b[49m\u001b[43m.\u001b[49m\u001b[43mobserve\u001b[49m\u001b[43m(\u001b[49m\u001b[43m)\u001b[49m\n",
      "\u001b[36mFile \u001b[39m\u001b[32m~/gym-donkeycar/gym_donkeycar/envs/donkey_sim.py:451\u001b[39m, in \u001b[36mDonkeyUnitySimHandler.observe\u001b[39m\u001b[34m(self)\u001b[39m\n\u001b[32m    449\u001b[39m \u001b[38;5;28;01mdef\u001b[39;00m\u001b[38;5;250m \u001b[39m\u001b[34mobserve\u001b[39m(\u001b[38;5;28mself\u001b[39m) -> Tuple[np.ndarray, \u001b[38;5;28mfloat\u001b[39m, \u001b[38;5;28mbool\u001b[39m, Dict[\u001b[38;5;28mstr\u001b[39m, Any]]:\n\u001b[32m    450\u001b[39m     \u001b[38;5;28;01mwhile\u001b[39;00m \u001b[38;5;28mself\u001b[39m.last_received == \u001b[38;5;28mself\u001b[39m.time_received:\n\u001b[32m--> \u001b[39m\u001b[32m451\u001b[39m         time.sleep(\u001b[32m0.001\u001b[39m)\n\u001b[32m    453\u001b[39m     \u001b[38;5;28mself\u001b[39m.last_received = \u001b[38;5;28mself\u001b[39m.time_received\n\u001b[32m    454\u001b[39m     observation = \u001b[38;5;28mself\u001b[39m.image_array\n",
      "\u001b[31mKeyboardInterrupt\u001b[39m: "
     ]
    }
   ],
   "source": [
    "for i in range(1000):\n",
    "    # preparation\n",
    "    # if i: \n",
    "    #     model = PPO.load(f'{folder}{i*2500}.pth')\n",
    "    #     Log = np.load(folder+f\"Log_PPO-{i*2500}.npy\", allow_pickle=True).item()\n",
    "    if i == 0:\n",
    "        model = PPO(\"CnnPolicy\", env, n_steps=500, verbose=0, learning_rate=0.0003*0.1 )\n",
    "        Log={\"TestReward\":[]}\n",
    "\n",
    "    # training\n",
    "    obs = env.reset()\n",
    "    model.learn(total_timesteps=2500, progress_bar=0)\n",
    "    model.save(f'{folder}{(i+1)*2500}.pth')\n",
    "\n",
    "    # testing\n",
    "    tem = 0\n",
    "    for _ in range(20):\n",
    "        obs = env.reset()\n",
    "        while True:\n",
    "            action, _states = model.predict(obs, deterministic=True)\n",
    "            obs, reward, done, info = env.step(action)\n",
    "            # print (reward, done)\n",
    "            env.render()\n",
    "            tem += reward\n",
    "            if done: break\n",
    "    Log[\"TestReward\"].append(tem/20)\n",
    "    print(f\"testing {(i+1)*2500} : {tem/20}\")\n",
    "    np.save(f\"{folder}/Log_PPO2-{(i+1)*2500}.npy\", Log)"
   ]
  },
  {
   "cell_type": "code",
   "execution_count": 51,
   "id": "ee9e9475-8415-4b50-8796-e4082bb9027a",
   "metadata": {},
   "outputs": [],
   "source": [
    "# testing\n",
    "# model = model = PPO(\"CnnPolicy\", env, n_steps=500, verbose=1 )\n",
    "# model.learn(total_timesteps=2500, progress_bar=0)"
   ]
  },
  {
   "cell_type": "code",
   "execution_count": 20,
   "id": "99bbb982-83fc-45be-9705-e059ab5ff08e",
   "metadata": {},
   "outputs": [],
   "source": [
    "env.close()"
   ]
  },
  {
   "cell_type": "code",
   "execution_count": 24,
   "id": "e11a21ce-461f-46bc-a1c4-bdde300d4317",
   "metadata": {},
   "outputs": [
    {
     "name": "stderr",
     "output_type": "stream",
     "text": [
      "INFO:gym_donkeycar.core.client:connecting to localhost:9091 \n",
      "INFO:gym_donkeycar.envs.donkey_sim:on need car config\n",
      "INFO:gym_donkeycar.envs.donkey_sim:sending car config.\n",
      "INFO:gym_donkeycar.envs.donkey_sim:sim started!\n"
     ]
    },
    {
     "name": "stdout",
     "output_type": "stream",
     "text": [
      "starting DonkeyGym env\n"
     ]
    },
    {
     "name": "stderr",
     "output_type": "stream",
     "text": [
      "INFO:gym_donkeycar.envs.donkey_sim:New lap time: 30.73 seconds\n",
      "INFO:gym_donkeycar.envs.donkey_sim:New lap time: 30.22 seconds\n",
      "INFO:gym_donkeycar.envs.donkey_sim:New lap time: 30.05 seconds\n",
      "INFO:gym_donkeycar.envs.donkey_sim:New lap time: 30.52 seconds\n",
      "INFO:gym_donkeycar.envs.donkey_sim:New lap time: 30.19 seconds\n",
      "INFO:gym_donkeycar.envs.donkey_sim:New lap time: 30.37 seconds\n",
      "INFO:gym_donkeycar.envs.donkey_sim:New lap time: 30.41 seconds\n",
      "INFO:gym_donkeycar.envs.donkey_sim:New lap time: 30.14 seconds\n",
      "INFO:gym_donkeycar.envs.donkey_sim:New lap time: 30.26 seconds\n",
      "INFO:gym_donkeycar.envs.donkey_sim:New lap time: 30.32 seconds\n",
      "INFO:gym_donkeycar.envs.donkey_sim:New lap time: 30.21 seconds\n",
      "INFO:gym_donkeycar.envs.donkey_sim:New lap time: 30.04 seconds\n",
      "INFO:gym_donkeycar.envs.donkey_sim:New lap time: 30.12 seconds\n",
      "INFO:gym_donkeycar.envs.donkey_sim:New lap time: 30.55 seconds\n",
      "INFO:gym_donkeycar.envs.donkey_sim:New lap time: 30.66 seconds\n",
      "INFO:gym_donkeycar.envs.donkey_sim:New lap time: 30.29 seconds\n",
      "INFO:gym_donkeycar.envs.donkey_sim:New lap time: 30.58 seconds\n",
      "INFO:gym_donkeycar.envs.donkey_sim:New lap time: 30.55 seconds\n",
      "INFO:gym_donkeycar.envs.donkey_sim:New lap time: 29.97 seconds\n",
      "INFO:gym_donkeycar.envs.donkey_sim:New lap time: 30.38 seconds\n",
      "INFO:gym_donkeycar.envs.donkey_sim:New lap time: 30.66 seconds\n",
      "INFO:gym_donkeycar.envs.donkey_sim:New lap time: 30.75 seconds\n",
      "INFO:gym_donkeycar.envs.donkey_sim:New lap time: 30.34 seconds\n",
      "INFO:gym_donkeycar.envs.donkey_sim:New lap time: 30.03 seconds\n",
      "INFO:gym_donkeycar.envs.donkey_sim:New lap time: 30.34 seconds\n",
      "INFO:gym_donkeycar.envs.donkey_sim:New lap time: 30.27 seconds\n",
      "INFO:gym_donkeycar.envs.donkey_sim:New lap time: 30.5 seconds\n",
      "INFO:gym_donkeycar.envs.donkey_sim:New lap time: 30.24 seconds\n",
      "INFO:gym_donkeycar.envs.donkey_sim:New lap time: 30.43 seconds\n",
      "INFO:gym_donkeycar.envs.donkey_sim:New lap time: 30.55 seconds\n",
      "INFO:gym_donkeycar.envs.donkey_sim:New lap time: 30.74 seconds\n",
      "INFO:gym_donkeycar.envs.donkey_sim:New lap time: 30.26 seconds\n",
      "INFO:gym_donkeycar.envs.donkey_sim:New lap time: 30.52 seconds\n",
      "INFO:gym_donkeycar.envs.donkey_sim:New lap time: 30.27 seconds\n",
      "INFO:gym_donkeycar.envs.donkey_sim:New lap time: 30.33 seconds\n",
      "INFO:gym_donkeycar.envs.donkey_sim:New lap time: 30.33 seconds\n",
      "INFO:gym_donkeycar.envs.donkey_sim:New lap time: 30.44 seconds\n",
      "INFO:gym_donkeycar.envs.donkey_sim:New lap time: 30.3 seconds\n",
      "INFO:gym_donkeycar.envs.donkey_sim:New lap time: 30.23 seconds\n",
      "INFO:gym_donkeycar.envs.donkey_sim:New lap time: 30.03 seconds\n",
      "INFO:gym_donkeycar.envs.donkey_sim:New lap time: 30.35 seconds\n",
      "INFO:gym_donkeycar.envs.donkey_sim:New lap time: 30.55 seconds\n",
      "INFO:gym_donkeycar.envs.donkey_sim:New lap time: 30.21 seconds\n",
      "INFO:gym_donkeycar.envs.donkey_sim:New lap time: 30.56 seconds\n",
      "INFO:gym_donkeycar.envs.donkey_sim:New lap time: 30.49 seconds\n",
      "INFO:gym_donkeycar.envs.donkey_sim:New lap time: 30.38 seconds\n",
      "INFO:gym_donkeycar.envs.donkey_sim:New lap time: 30.32 seconds\n",
      "INFO:gym_donkeycar.envs.donkey_sim:New lap time: 30.32 seconds\n",
      "INFO:gym_donkeycar.envs.donkey_sim:New lap time: 30.32 seconds\n",
      "INFO:gym_donkeycar.envs.donkey_sim:New lap time: 30.39 seconds\n",
      "INFO:gym_donkeycar.envs.donkey_sim:New lap time: 30.39 seconds\n",
      "INFO:gym_donkeycar.envs.donkey_sim:New lap time: 30.33 seconds\n",
      "INFO:gym_donkeycar.envs.donkey_sim:New lap time: 30.38 seconds\n",
      "INFO:gym_donkeycar.envs.donkey_sim:New lap time: 30.3 seconds\n",
      "INFO:gym_donkeycar.envs.donkey_sim:New lap time: 30.4 seconds\n",
      "INFO:gym_donkeycar.envs.donkey_sim:New lap time: 30.22 seconds\n",
      "INFO:gym_donkeycar.envs.donkey_sim:New lap time: 30.26 seconds\n",
      "INFO:gym_donkeycar.envs.donkey_sim:New lap time: 30.48 seconds\n",
      "INFO:gym_donkeycar.envs.donkey_sim:New lap time: 30.31 seconds\n",
      "INFO:gym_donkeycar.envs.donkey_sim:New lap time: 30.23 seconds\n",
      "INFO:gym_donkeycar.envs.donkey_sim:New lap time: 30.54 seconds\n",
      "INFO:gym_donkeycar.envs.donkey_sim:New lap time: 30.38 seconds\n",
      "INFO:gym_donkeycar.envs.donkey_sim:New lap time: 30.11 seconds\n",
      "INFO:gym_donkeycar.envs.donkey_sim:New lap time: 30.49 seconds\n",
      "INFO:gym_donkeycar.envs.donkey_sim:New lap time: 30.78 seconds\n",
      "INFO:gym_donkeycar.envs.donkey_sim:New lap time: 30.37 seconds\n",
      "INFO:gym_donkeycar.envs.donkey_sim:New lap time: 30.85 seconds\n",
      "INFO:gym_donkeycar.envs.donkey_sim:New lap time: 30.41 seconds\n",
      "INFO:gym_donkeycar.envs.donkey_sim:New lap time: 30.4 seconds\n",
      "INFO:gym_donkeycar.envs.donkey_sim:New lap time: 30.3 seconds\n",
      "INFO:gym_donkeycar.envs.donkey_sim:New lap time: 30.1 seconds\n",
      "INFO:gym_donkeycar.envs.donkey_sim:New lap time: 30.53 seconds\n",
      "INFO:gym_donkeycar.envs.donkey_sim:New lap time: 30.41 seconds\n",
      "INFO:gym_donkeycar.envs.donkey_sim:New lap time: 30.84 seconds\n",
      "INFO:gym_donkeycar.envs.donkey_sim:New lap time: 30.38 seconds\n",
      "INFO:gym_donkeycar.envs.donkey_sim:New lap time: 30.42 seconds\n"
     ]
    },
    {
     "ename": "KeyboardInterrupt",
     "evalue": "",
     "output_type": "error",
     "traceback": [
      "\u001b[31m---------------------------------------------------------------------------\u001b[39m",
      "\u001b[31mKeyboardInterrupt\u001b[39m                         Traceback (most recent call last)",
      "\u001b[36mCell\u001b[39m\u001b[36m \u001b[39m\u001b[32mIn[24]\u001b[39m\u001b[32m, line 8\u001b[39m\n\u001b[32m      6\u001b[39m \u001b[38;5;28;01mwhile\u001b[39;00m \u001b[38;5;28;01mTrue\u001b[39;00m:\n\u001b[32m      7\u001b[39m     action, _states = test_model.predict(obs, deterministic=\u001b[38;5;28;01mTrue\u001b[39;00m)\n\u001b[32m----> \u001b[39m\u001b[32m8\u001b[39m     obs, reward, done, info = \u001b[43menv\u001b[49m\u001b[43m.\u001b[49m\u001b[43mstep\u001b[49m\u001b[43m(\u001b[49m\u001b[43maction\u001b[49m\u001b[43m)\u001b[49m\n\u001b[32m      9\u001b[39m     \u001b[38;5;66;03m# print (reward, done)\u001b[39;00m\n\u001b[32m     10\u001b[39m     env.render()\n",
      "\u001b[36mFile \u001b[39m\u001b[32m~/miniconda3/envs/donkey/lib/python3.11/site-packages/gym/wrappers/order_enforcing.py:13\u001b[39m, in \u001b[36mOrderEnforcing.step\u001b[39m\u001b[34m(self, action)\u001b[39m\n\u001b[32m     11\u001b[39m \u001b[38;5;28;01mdef\u001b[39;00m\u001b[38;5;250m \u001b[39m\u001b[34mstep\u001b[39m(\u001b[38;5;28mself\u001b[39m, action):\n\u001b[32m     12\u001b[39m     \u001b[38;5;28;01massert\u001b[39;00m \u001b[38;5;28mself\u001b[39m._has_reset, \u001b[33m\"\u001b[39m\u001b[33mCannot call env.step() before calling reset()\u001b[39m\u001b[33m\"\u001b[39m\n\u001b[32m---> \u001b[39m\u001b[32m13\u001b[39m     observation, reward, done, info = \u001b[38;5;28;43mself\u001b[39;49m\u001b[43m.\u001b[49m\u001b[43menv\u001b[49m\u001b[43m.\u001b[49m\u001b[43mstep\u001b[49m\u001b[43m(\u001b[49m\u001b[43maction\u001b[49m\u001b[43m)\u001b[49m\n\u001b[32m     14\u001b[39m     \u001b[38;5;28;01mreturn\u001b[39;00m observation, reward, done, info\n",
      "\u001b[36mFile \u001b[39m\u001b[32m~/gym-donkeycar/gym_donkeycar/envs/donkey_env.py:136\u001b[39m, in \u001b[36mDonkeyEnv.step\u001b[39m\u001b[34m(self, action)\u001b[39m\n\u001b[32m    134\u001b[39m \u001b[38;5;28;01mfor\u001b[39;00m _ \u001b[38;5;129;01min\u001b[39;00m \u001b[38;5;28mrange\u001b[39m(\u001b[38;5;28mself\u001b[39m.frame_skip):\n\u001b[32m    135\u001b[39m     \u001b[38;5;28mself\u001b[39m.viewer.take_action(action)\n\u001b[32m--> \u001b[39m\u001b[32m136\u001b[39m     observation, reward, done, info = \u001b[38;5;28;43mself\u001b[39;49m\u001b[43m.\u001b[49m\u001b[43mviewer\u001b[49m\u001b[43m.\u001b[49m\u001b[43mobserve\u001b[49m\u001b[43m(\u001b[49m\u001b[43m)\u001b[49m\n\u001b[32m    137\u001b[39m \u001b[38;5;28;01mreturn\u001b[39;00m observation, reward, done, info\n",
      "\u001b[36mFile \u001b[39m\u001b[32m~/gym-donkeycar/gym_donkeycar/envs/donkey_sim.py:108\u001b[39m, in \u001b[36mDonkeyUnitySimContoller.observe\u001b[39m\u001b[34m(self)\u001b[39m\n\u001b[32m    107\u001b[39m \u001b[38;5;28;01mdef\u001b[39;00m\u001b[38;5;250m \u001b[39m\u001b[34mobserve\u001b[39m(\u001b[38;5;28mself\u001b[39m) -> Tuple[np.ndarray, \u001b[38;5;28mfloat\u001b[39m, \u001b[38;5;28mbool\u001b[39m, Dict[\u001b[38;5;28mstr\u001b[39m, Any]]:\n\u001b[32m--> \u001b[39m\u001b[32m108\u001b[39m     \u001b[38;5;28;01mreturn\u001b[39;00m \u001b[38;5;28;43mself\u001b[39;49m\u001b[43m.\u001b[49m\u001b[43mhandler\u001b[49m\u001b[43m.\u001b[49m\u001b[43mobserve\u001b[49m\u001b[43m(\u001b[49m\u001b[43m)\u001b[49m\n",
      "\u001b[36mFile \u001b[39m\u001b[32m~/gym-donkeycar/gym_donkeycar/envs/donkey_sim.py:451\u001b[39m, in \u001b[36mDonkeyUnitySimHandler.observe\u001b[39m\u001b[34m(self)\u001b[39m\n\u001b[32m    449\u001b[39m \u001b[38;5;28;01mdef\u001b[39;00m\u001b[38;5;250m \u001b[39m\u001b[34mobserve\u001b[39m(\u001b[38;5;28mself\u001b[39m) -> Tuple[np.ndarray, \u001b[38;5;28mfloat\u001b[39m, \u001b[38;5;28mbool\u001b[39m, Dict[\u001b[38;5;28mstr\u001b[39m, Any]]:\n\u001b[32m    450\u001b[39m     \u001b[38;5;28;01mwhile\u001b[39;00m \u001b[38;5;28mself\u001b[39m.last_received == \u001b[38;5;28mself\u001b[39m.time_received:\n\u001b[32m--> \u001b[39m\u001b[32m451\u001b[39m         time.sleep(\u001b[32m0.001\u001b[39m)\n\u001b[32m    453\u001b[39m     \u001b[38;5;28mself\u001b[39m.last_received = \u001b[38;5;28mself\u001b[39m.time_received\n\u001b[32m    454\u001b[39m     observation = \u001b[38;5;28mself\u001b[39m.image_array\n",
      "\u001b[31mKeyboardInterrupt\u001b[39m: "
     ]
    }
   ],
   "source": [
    "env = gym.make(\"donkey-minimonaco-track-v0\", conf=conf)\n",
    "num = 22500\n",
    "test_model = PPO.load(f\"{folder}{num}.pth\")\n",
    "obs = env.reset()\n",
    "tem = 0\n",
    "while True:\n",
    "    action, _states = test_model.predict(obs, deterministic=True)\n",
    "    obs, reward, done, info = env.step(action)\n",
    "    # print (reward, done)\n",
    "    env.render()\n",
    "    tem += reward\n",
    "    if done: break\n",
    "print(tem)\n",
    "env.close()"
   ]
  },
  {
   "cell_type": "code",
   "execution_count": 25,
   "id": "1a5ca8b1-675b-493e-90ce-4ff49788533c",
   "metadata": {},
   "outputs": [
    {
     "name": "stdout",
     "output_type": "stream",
     "text": [
      "86160.95181727136\n"
     ]
    }
   ],
   "source": [
    "print(tem)\n",
    "env.close()"
   ]
  },
  {
   "cell_type": "code",
   "execution_count": null,
   "id": "12e72234-173a-48d5-9551-33a5b8fa9b07",
   "metadata": {},
   "outputs": [],
   "source": []
  }
 ],
 "metadata": {
  "kernelspec": {
   "display_name": "Python 3 (ipykernel)",
   "language": "python",
   "name": "python3"
  },
  "language_info": {
   "codemirror_mode": {
    "name": "ipython",
    "version": 3
   },
   "file_extension": ".py",
   "mimetype": "text/x-python",
   "name": "python",
   "nbconvert_exporter": "python",
   "pygments_lexer": "ipython3",
   "version": "3.11.11"
  }
 },
 "nbformat": 4,
 "nbformat_minor": 5
}
